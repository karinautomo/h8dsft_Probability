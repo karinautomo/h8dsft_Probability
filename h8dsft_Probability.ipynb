{
 "cells": [
  {
   "cell_type": "markdown",
   "metadata": {},
   "source": [
    "# Non Graded Challenge 10"
   ]
  },
  {
   "cell_type": "markdown",
   "metadata": {},
   "source": [
    "Week 3 Day 2 - Probability\n",
    "<br>\n",
    "Nama: Karina Utomo\n",
    "<br>\n",
    "Hacktiv8 Full Time Data Science Batch 003"
   ]
  },
  {
   "cell_type": "markdown",
   "metadata": {},
   "source": [
    "# Assignment Instructions"
   ]
  },
  {
   "cell_type": "markdown",
   "metadata": {},
   "source": [
    "Buatlah sebuah kode untuk mensimulasikan melempar koin sebanyak 50.000 kali dengan assign value random berupa 0 dan 1 untuk kepala atau ekor. Setiap kali koin dilempar, peluang untuk mendapatkan kepala atau ekor adalah 50%."
   ]
  },
  {
   "cell_type": "markdown",
   "metadata": {},
   "source": [
    "# Assignment Program"
   ]
  },
  {
   "cell_type": "code",
   "execution_count": 5,
   "metadata": {},
   "outputs": [],
   "source": [
    "import random\n",
    "from matplotlib import pyplot as plt"
   ]
  },
  {
   "cell_type": "code",
   "execution_count": 6,
   "metadata": {},
   "outputs": [
    {
     "name": "stdout",
     "output_type": "stream",
     "text": [
      "[24990, 25010]\n"
     ]
    }
   ],
   "source": [
    "# Membuat list dengan 2 elemen (kepala dan ekor)\n",
    "heads_tails = [0,0]\n",
    "\n",
    "# Membuat loop sebanyak 50.000 kali\n",
    "trials = 50000\n",
    "i = 0\n",
    "while i < trials:\n",
    "    i = i + 1\n",
    "    # Mendapatkan hasil random 0 atau 1. 0 untuk kepala, 1 untuk ekor\n",
    "    toss = random.randint(0,1)\n",
    "    # Hasil dari toss dimasukkan ke dalam list\n",
    "    heads_tails[toss] = heads_tails[toss] + 1\n",
    "    \n",
    "print(heads_tails)"
   ]
  },
  {
   "cell_type": "code",
   "execution_count": 7,
   "metadata": {},
   "outputs": [
    {
     "data": {
      "image/png": "[encoded data removed]",
      "text/plain": [
       "<Figure size 360x360 with 1 Axes>"
      ]
     },
     "metadata": {},
     "output_type": "display_data"
    }
   ],
   "source": [
    "# Membuat pie chart dari hasil\n",
    "plt.figure(figsize = (5,5))\n",
    "plt.pie(heads_tails, labels = ['Heads', 'Tails'], colors = ['gold', 'cornflowerblue'])\n",
    "plt.legend()\n",
    "\n",
    "plt.show()"
   ]
  },
  {
   "cell_type": "code",
   "execution_count": 8,
   "metadata": {},
   "outputs": [
    {
     "name": "stdout",
     "output_type": "stream",
     "text": [
      "Peluang untuk mendapatkan kepala adalah 49.98%\n",
      "Peluang untuk mendapatkan ekor adalah 50.02%\n"
     ]
    }
   ],
   "source": [
    "# Menghitung peluang mendapatkan kepala atau ekor\n",
    "print('Peluang untuk mendapatkan kepala adalah', '%.2f%%' % ((heads_tails[0]/trials)*100))\n",
    "print('Peluang untuk mendapatkan ekor adalah', '%.2f%%' % ((heads_tails[1]/trials)*100))"
   ]
  },
  {
   "cell_type": "code",
   "execution_count": null,
   "metadata": {},
   "outputs": [],
   "source": []
  }
 ],
 "metadata": {
  "kernelspec": {
   "display_name": "Python 3",
   "language": "python",
   "name": "python3"
  },
  "language_info": {
   "codemirror_mode": {
    "name": "ipython",
    "version": 3
   },
   "file_extension": ".py",
   "mimetype": "text/x-python",
   "name": "python",
   "nbconvert_exporter": "python",
   "pygments_lexer": "ipython3",
   "version": "3.8.3"
  }
 },
 "nbformat": 4,
 "nbformat_minor": 4
}
